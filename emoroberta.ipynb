{
 "cells": [
  {
   "cell_type": "code",
   "execution_count": 1,
   "id": "fe04358b",
   "metadata": {},
   "outputs": [],
   "source": [
    "\"\"\" \n",
    "Adoptation for the model proposed here: https://skimai.com/fine-tuning-bert-for-sentiment-analysis/\n",
    "- goemotions dataset support\n",
    "- emotions mapping to the Plutchik's scale\n",
    "- turned to multilabel classification with neutral class\n",
    "\"\"\"\n",
    "\n",
    "import numpy as np\n",
    "import pandas as pd\n",
    "pd.set_option('display.max_rows', None)\n",
    "import torch\n",
    "import random\n",
    "import time\n",
    "    \n",
    "from torch.utils.data import TensorDataset, DataLoader, RandomSampler, SequentialSampler\n",
    "import torch.nn.functional as F\n",
    "from transformers import BertTokenizer, AdamW, get_linear_schedule_with_warmup\n",
    "from sklearn.model_selection import train_test_split\n",
    "from sklearn import metrics\n",
    "\n",
    "from transformers import BertTokenizer, BertForPreTraining\n",
    "#from  ipynb.fs.full.testing_func import calc_classes_confusion, plot_classes_confusion, print_metrics, pr_curves"
   ]
  },
  {
   "cell_type": "code",
   "execution_count": 2,
   "id": "077b9b1b",
   "metadata": {
    "scrolled": true
   },
   "outputs": [],
   "source": [
    "data = pd.read_csv('goemotions_3.csv')\n",
    "data.dropna(subset = ['text'], inplace = True)\n",
    "class_names = data.columns[3:]\n"
   ]
  },
  {
   "cell_type": "code",
   "execution_count": 3,
   "id": "54b3ea6e",
   "metadata": {},
   "outputs": [
    {
     "name": "stdout",
     "output_type": "stream",
     "text": [
      "There are 1 GPU(s) available.\n",
      "Device name: NVIDIA GeForce RTX 3050 Ti Laptop GPU\n"
     ]
    }
   ],
   "source": [
    "if torch.cuda.is_available():       \n",
    "    device = torch.device(\"cuda\")\n",
    "    print(f'There are {torch.cuda.device_count()} GPU(s) available.')\n",
    "    print('Device name:', torch.cuda.get_device_name(0))\n",
    "\n",
    "else:\n",
    "    print('No GPU available, using the CPU instead.')\n",
    "    device = torch.device(\"cpu\")"
   ]
  },
  {
   "cell_type": "code",
   "execution_count": 4,
   "id": "1fb3559d",
   "metadata": {},
   "outputs": [],
   "source": [
    "path = 'roberta-base'"
   ]
  },
  {
   "cell_type": "code",
   "execution_count": 5,
   "id": "8e614b5a",
   "metadata": {},
   "outputs": [],
   "source": [
    "data = data.loc[:, ['text','anger',  'fear', 'joy',   'sadness','surprise']]"
   ]
  },
  {
   "cell_type": "code",
   "execution_count": 6,
   "id": "1c8447d6",
   "metadata": {},
   "outputs": [
    {
     "data": {
      "text/plain": [
       "0    Worst ending ever! I won't spoil it but this o...\n",
       "1                       Happy cake day u/sneakpeekbot!\n",
       "2    Was he rejected because of his methodology or ...\n",
       "3                                      thanks, I agree\n",
       "4                      Why would you doubt it dumbass?\n",
       "Name: text, dtype: object"
      ]
     },
     "execution_count": 6,
     "metadata": {},
     "output_type": "execute_result"
    }
   ],
   "source": [
    "data.text.head()"
   ]
  },
  {
   "cell_type": "code",
   "execution_count": 7,
   "id": "2cfd2320",
   "metadata": {},
   "outputs": [],
   "source": [
    "labels = data.iloc[:, 1:].sum(axis = 1)"
   ]
  },
  {
   "cell_type": "code",
   "execution_count": 8,
   "id": "707b6ce9",
   "metadata": {},
   "outputs": [],
   "source": [
    "x = np.array(labels)"
   ]
  },
  {
   "cell_type": "code",
   "execution_count": 9,
   "id": "85409667",
   "metadata": {},
   "outputs": [],
   "source": [
    "df = data.drop(np.where(labels == 0)[0])"
   ]
  },
  {
   "cell_type": "code",
   "execution_count": 10,
   "id": "f37b69b8",
   "metadata": {},
   "outputs": [],
   "source": [
    "labels = df.iloc[:,1:].values.astype(np.float32)"
   ]
  },
  {
   "cell_type": "code",
   "execution_count": 11,
   "id": "545e59af",
   "metadata": {},
   "outputs": [
    {
     "data": {
      "text/html": [
       "<div>\n",
       "<style scoped>\n",
       "    .dataframe tbody tr th:only-of-type {\n",
       "        vertical-align: middle;\n",
       "    }\n",
       "\n",
       "    .dataframe tbody tr th {\n",
       "        vertical-align: top;\n",
       "    }\n",
       "\n",
       "    .dataframe thead th {\n",
       "        text-align: right;\n",
       "    }\n",
       "</style>\n",
       "<table border=\"1\" class=\"dataframe\">\n",
       "  <thead>\n",
       "    <tr style=\"text-align: right;\">\n",
       "      <th></th>\n",
       "      <th>text</th>\n",
       "      <th>anger</th>\n",
       "      <th>fear</th>\n",
       "      <th>joy</th>\n",
       "      <th>sadness</th>\n",
       "      <th>surprise</th>\n",
       "    </tr>\n",
       "  </thead>\n",
       "  <tbody>\n",
       "    <tr>\n",
       "      <th>4</th>\n",
       "      <td>Why would you doubt it dumbass?</td>\n",
       "      <td>1</td>\n",
       "      <td>0</td>\n",
       "      <td>0</td>\n",
       "      <td>0</td>\n",
       "      <td>0</td>\n",
       "    </tr>\n",
       "    <tr>\n",
       "      <th>6</th>\n",
       "      <td>[NAME] is a hungry little bastard.</td>\n",
       "      <td>1</td>\n",
       "      <td>0</td>\n",
       "      <td>0</td>\n",
       "      <td>0</td>\n",
       "      <td>0</td>\n",
       "    </tr>\n",
       "    <tr>\n",
       "      <th>9</th>\n",
       "      <td>Both parents were drunk. Where were the small ...</td>\n",
       "      <td>0</td>\n",
       "      <td>0</td>\n",
       "      <td>0</td>\n",
       "      <td>1</td>\n",
       "      <td>0</td>\n",
       "    </tr>\n",
       "    <tr>\n",
       "      <th>18</th>\n",
       "      <td>OMG! I can only imagine. I've gotten it into a...</td>\n",
       "      <td>0</td>\n",
       "      <td>0</td>\n",
       "      <td>0</td>\n",
       "      <td>0</td>\n",
       "      <td>1</td>\n",
       "    </tr>\n",
       "    <tr>\n",
       "      <th>29</th>\n",
       "      <td>ONLY FUCKING MERRILL WOULD MISS THAT</td>\n",
       "      <td>1</td>\n",
       "      <td>0</td>\n",
       "      <td>0</td>\n",
       "      <td>0</td>\n",
       "      <td>0</td>\n",
       "    </tr>\n",
       "  </tbody>\n",
       "</table>\n",
       "</div>"
      ],
      "text/plain": [
       "                                                 text  anger  fear  joy  \\\n",
       "4                     Why would you doubt it dumbass?      1     0    0   \n",
       "6                  [NAME] is a hungry little bastard.      1     0    0   \n",
       "9   Both parents were drunk. Where were the small ...      0     0    0   \n",
       "18  OMG! I can only imagine. I've gotten it into a...      0     0    0   \n",
       "29               ONLY FUCKING MERRILL WOULD MISS THAT      1     0    0   \n",
       "\n",
       "    sadness  surprise  \n",
       "4         0         0  \n",
       "6         0         0  \n",
       "9         1         0  \n",
       "18        0         1  \n",
       "29        0         0  "
      ]
     },
     "execution_count": 11,
     "metadata": {},
     "output_type": "execute_result"
    }
   ],
   "source": [
    "df.head()"
   ]
  },
  {
   "cell_type": "code",
   "execution_count": 12,
   "id": "30be7e61",
   "metadata": {},
   "outputs": [
    {
     "data": {
      "text/plain": [
       "10517"
      ]
     },
     "execution_count": 12,
     "metadata": {},
     "output_type": "execute_result"
    }
   ],
   "source": [
    "len(df)"
   ]
  },
  {
   "cell_type": "code",
   "execution_count": 13,
   "id": "32caf1a3",
   "metadata": {},
   "outputs": [],
   "source": [
    "contraction_mapping = {\"ain't\": \"is not\", \"aren't\": \"are not\",\"can't\": \"cannot\", \"'cause\": \"because\", \"could've\": \"could have\", \"couldn't\": \"could not\", \n",
    "                       \"didn't\": \"did not\",  \"doesn't\": \"does not\", \"don't\": \"do not\", \"hadn't\": \"had not\", \"hasn't\": \"has not\", \"haven't\": \"have not\", \n",
    "                       \"he'd\": \"he would\",\"he'll\": \"he will\", \"he's\": \"he is\", \"how'd\": \"how did\", \"how'd'y\": \"how do you\", \"how'll\": \"how will\", \n",
    "                       \"how's\": \"how is\",  \"I'd\": \"I would\", \"I'd've\": \"I would have\", \"I'll\": \"I will\", \"I'll've\": \"I will have\",\"I'm\": \"I am\",\n",
    "                       \"I've\": \"I have\", \"i'd\": \"i would\", \"i'd've\": \"i would have\", \"i'll\": \"i will\",  \"i'll've\": \"i will have\",\"i'm\": \"i am\", \n",
    "                       \"i've\": \"i have\", \"isn't\": \"is not\", \"it'd\": \"it would\", \"it'd've\": \"it would have\", \"it'll\": \"it will\", \"it'll've\": \"it will have\",\n",
    "                       \"it's\": \"it is\", \"let's\": \"let us\", \"ma'am\": \"madam\", \"mayn't\": \"may not\", \"might've\": \"might have\",\"mightn't\": \"might not\",\n",
    "                       \"mightn't've\": \"might not have\", \"must've\": \"must have\", \"mustn't\": \"must not\", \"mustn't've\": \"must not have\", \"needn't\": \"need not\", \n",
    "                       \"needn't've\": \"need not have\",\"o'clock\": \"of the clock\", \"oughtn't\": \"ought not\", \"oughtn't've\": \"ought not have\", \"shan't\": \"shall not\",\n",
    "                       \"sha'n't\": \"shall not\", \"shan't've\": \"shall not have\", \"she'd\": \"she would\", \"she'd've\": \"she would have\", \"she'll\": \"she will\", \n",
    "                       \"she'll've\": \"she will have\", \"she's\": \"she is\", \"should've\": \"should have\", \"shouldn't\": \"should not\", \"shouldn't've\": \"should not have\",\n",
    "                       \"so've\": \"so have\",\"so's\": \"so as\", \"this's\": \"this is\",\"that'd\": \"that would\", \"that'd've\": \"that would have\", \"that's\": \"that is\",\n",
    "                       \"there'd\": \"there would\", \"there'd've\": \"there would have\", \"there's\": \"there is\", \"here's\": \"here is\",\"they'd\": \"they would\",\n",
    "                       \"they'd've\": \"they would have\", \"they'll\": \"they will\", \"they'll've\": \"they will have\", \"they're\": \"they are\", \"they've\": \"they have\",\n",
    "                       \"to've\": \"to have\", \"wasn't\": \"was not\", \"we'd\": \"we would\", \"we'd've\": \"we would have\", \"we'll\": \"we will\", \"we'll've\": \"we will have\",\n",
    "                       \"we're\": \"we are\", \"we've\": \"we have\", \"weren't\": \"were not\", \"what'll\": \"what will\", \"what'll've\": \"what will have\", \n",
    "                       \"what're\": \"what are\",  \"what's\": \"what is\", \"what've\": \"what have\", \"when's\": \"when is\", \"when've\": \"when have\", \"where'd\": \"where did\",\n",
    "                       \"where's\": \"where is\", \"where've\": \"where have\", \"who'll\": \"who will\", \"who'll've\": \"who will have\", \"who's\": \"who is\", \n",
    "                       \"who've\": \"who have\", \"why's\": \"why is\", \"why've\": \"why have\", \"will've\": \"will have\", \"won't\": \"will not\", \"won't've\": \"will not have\", \n",
    "                       \"would've\": \"would have\", \"wouldn't\": \"would not\", \"wouldn't've\": \"would not have\", \"y'all\": \"you all\", \"y'all'd\": \"you all would\",\n",
    "                       \"y'all'd've\": \"you all would have\",\"y'all're\": \"you all are\",\"y'all've\": \"you all have\",\"you'd\": \"you would\", \"you'd've\": \"you would have\",\n",
    "                       \"you'll\": \"you will\", \"you'll've\": \"you will have\", \"you're\": \"you are\", \"you've\": \"you have\", 'u.s':'america', 'e.g':'for example'}\n",
    "\n",
    "punct = [',', '.', '\"', ':', ')', '(', '-', '!', '?', '|', ';', \"'\", '$', '&', '/', '[', ']', '>', '%', '=', '#', '*', '+', '\\\\', '•',  '~', '@', '£', \n",
    " '·', '_', '{', '}', '©', '^', '®', '`',  '<', '→', '°', '€', '™', '›',  '♥', '←', '×', '§', '″', '′', 'Â', '█', '½', 'à', '…', \n",
    " '“', '★', '”', '–', '●', 'â', '►', '−', '¢', '²', '¬', '░', '¶', '↑', '±', '¿', '▾', '═', '¦', '║', '―', '¥', '▓', '—', '‹', '─', \n",
    " '▒', '：', '¼', '⊕', '▼', '▪', '†', '■', '’', '▀', '¨', '▄', '♫', '☆', 'é', '¯', '♦', '¤', '▲', 'è', '¸', '¾', 'Ã', '⋅', '‘', '∞', \n",
    " '∙', '）', '↓', '、', '│', '（', '»', '，', '♪', '╩', '╚', '³', '・', '╦', '╣', '╔', '╗', '▬', '❤', 'ï', 'Ø', '¹', '≤', '‡', '√', ]\n",
    "\n",
    "punct_mapping = {\"‘\": \"'\", \"₹\": \"e\", \"´\": \"'\", \"°\": \"\", \"€\": \"e\", \"™\": \"tm\", \"√\": \" sqrt \", \"×\": \"x\", \"²\": \"2\", \"—\": \"-\", \"–\": \"-\", \"’\": \"'\", \"_\": \"-\",\n",
    "                 \"`\": \"'\", '“': '\"', '”': '\"', '“': '\"', \"£\": \"e\", '∞': 'infinity', 'θ': 'theta', '÷': '/', 'α': 'alpha', '•': '.', 'à': 'a', '−': '-', \n",
    "                 'β': 'beta', '∅': '', '³': '3', 'π': 'pi', '!':' '}\n",
    "\n",
    "mispell_dict = {'colour': 'color', 'centre': 'center', 'favourite': 'favorite', 'travelling': 'traveling', 'counselling': 'counseling', 'theatre': 'theater',\n",
    "                'cancelled': 'canceled', 'labour': 'labor', 'organisation': 'organization', 'wwii': 'world war 2', 'citicise': 'criticize', 'youtu ': 'youtube ',\n",
    "                'Qoura': 'Quora', 'sallary': 'salary', 'Whta': 'What', 'narcisist': 'narcissist', 'howdo': 'how do', 'whatare': 'what are', 'howcan': 'how can',\n",
    "                'howmuch': 'how much', 'howmany': 'how many', 'whydo': 'why do', 'doI': 'do I', 'theBest': 'the best', 'howdoes': 'how does', \n",
    "                'mastrubation': 'masturbation', 'mastrubate': 'masturbate', \"mastrubating\": 'masturbating', 'pennis': 'penis', 'Etherium': 'Ethereum', \n",
    "                'narcissit': 'narcissist', 'bigdata': 'big data', '2k17': '2017', '2k18': '2018', 'qouta': 'quota', 'exboyfriend': 'ex boyfriend', \n",
    "                'airhostess': 'air hostess', \"whst\": 'what', 'watsapp': 'whatsapp', 'demonitisation': 'demonetization', 'demonitization': 'demonetization',\n",
    "                'demonetisation': 'demonetization'}"
   ]
  },
  {
   "cell_type": "code",
   "execution_count": 14,
   "id": "267c2437",
   "metadata": {},
   "outputs": [
    {
     "name": "stderr",
     "output_type": "stream",
     "text": [
      "[nltk_data] Downloading package stopwords to\n",
      "[nltk_data]     C:\\Users\\Артур\\AppData\\Roaming\\nltk_data...\n",
      "[nltk_data]   Package stopwords is already up-to-date!\n",
      "[nltk_data] Downloading package wordnet to\n",
      "[nltk_data]     C:\\Users\\Артур\\AppData\\Roaming\\nltk_data...\n",
      "[nltk_data]   Package wordnet is already up-to-date!\n"
     ]
    }
   ],
   "source": [
    "import numpy as np\n",
    "import pandas as pd\n",
    "import nltk\n",
    "nltk.download('stopwords')\n",
    "nltk.download('wordnet')\n",
    "from nltk.corpus import stopwords\n",
    "from nltk.stem import WordNetLemmatizer\n",
    "#!pip install contractions\n",
    "import contractions\n",
    "import re\n",
    "import tensorflow as tf\n",
    "from tensorflow.keras.optimizers import Adam\n",
    "import matplotlib.pyplot as plt\n",
    "import seaborn as sns\n",
    "#from wordcloud import WordCloud\n",
    "def preprocess(sentence):\n",
    "    stop_words = set(stopwords.words('english'))\n",
    "    #print(sentence)\n",
    "    #sentence =sentence.tolist()\n",
    "\n",
    "    lemmatizer = WordNetLemmatizer()\n",
    "    sentence = re.sub('[^A-z]', ' ', sentence)\n",
    "    negative = ['not', 'neither', 'nor', 'but', 'however', 'although', 'nonetheless', 'despite', 'except',\n",
    "                        'even though', 'yet']\n",
    "    stop_words = [z for z in stop_words if z not in negative]\n",
    "    preprocessed_tokens = [lemmatizer.lemmatize(contractions.fix(temp.lower())) for temp in sentence.split() if temp not in stop_words] #lemmatization\n",
    "    return ' '.join([x for x in preprocessed_tokens]).strip()"
   ]
  },
  {
   "cell_type": "code",
   "execution_count": 15,
   "id": "5e84e3ae",
   "metadata": {},
   "outputs": [],
   "source": [
    "import os\n",
    "import matplotlib.pyplot as plt\n",
    "import re\n",
    "import string\n",
    "import json\n",
    "import emoji\n",
    "import numpy as np\n",
    "import pandas as pd\n",
    "from sklearn import metrics\n",
    "from bs4 import BeautifulSoup\n",
    "import transformers\n",
    "import torch\n",
    "from torch.utils.data import Dataset, DataLoader, RandomSampler, SequentialSampler\n",
    "from transformers import BertTokenizer, AutoTokenizer, BertModel, BertConfig, AutoModel, AdamW\n",
    "import warnings\n",
    "warnings.filterwarnings('ignore')\n",
    "\n",
    "pd.set_option(\"display.max_columns\", None)\n",
    "def clean_text(text):\n",
    "    '''Clean emoji, Make text lowercase, remove text in square brackets,remove links,remove punctuation\n",
    "    and remove words containing numbers.'''\n",
    "    text = emoji.demojize(text)\n",
    "    text = re.sub(r'\\:(.*?)\\:','',text)\n",
    "    text = str(text).lower()    #Making Text Lowercase\n",
    "    text = re.sub('\\[.*?\\]', '', text)\n",
    "    #The next 2 lines remove html text\n",
    "    text = BeautifulSoup(text, 'lxml').get_text()\n",
    "    text = re.sub('https?://\\S+|www\\.\\S+', '', text)\n",
    "    text = re.sub('<.*?>+', '', text)\n",
    "    text = re.sub('\\n', '', text)\n",
    "    text = re.sub('\\w*\\d\\w*', '', text)\n",
    "    # replacing everything with space except (a-z, A-Z, \".\", \"?\", \"!\", \",\", \"'\")\n",
    "    text = re.sub(r\"[^a-zA-Z?.!,¿']+\", \" \", text)\n",
    "    return text\n",
    "\n",
    "def clean_contractions(text, mapping):\n",
    "    '''Clean contraction using contraction mapping'''    \n",
    "    specials = [\"’\", \"‘\", \"´\", \"`\"]\n",
    "    for s in specials:\n",
    "        text = text.replace(s, \"'\")\n",
    "    for word in mapping.keys():\n",
    "        if \"\"+word+\"\" in text:\n",
    "            text = text.replace(\"\"+word+\"\", \"\"+mapping[word]+\"\")\n",
    "    #Remove Punctuations\n",
    "    text = re.sub('[%s]' % re.escape(string.punctuation), '', text)\n",
    "    # creating a space between a word and the punctuation following it\n",
    "    # eg: \"he is a boy.\" => \"he is a boy .\"\n",
    "    text = re.sub(r\"([?.!,¿])\", r\" \\1 \", text)\n",
    "    text = re.sub(r'[\" \"]+', \" \", text)\n",
    "    return text\n",
    "\n",
    "def clean_special_chars(text, punct, mapping):\n",
    "    '''Cleans special characters present(if any)'''   \n",
    "    for p in mapping:\n",
    "        text = text.replace(p, mapping[p])\n",
    "    \n",
    "    for p in punct:\n",
    "        text = text.replace(p, f' {p} ')\n",
    "    \n",
    "    specials = {'\\u200b': ' ', '…': ' ... ', '\\ufeff': '', 'करना': '', 'है': ''}  \n",
    "    for s in specials:\n",
    "        text = text.replace(s, specials[s])\n",
    "    \n",
    "    return text\n",
    "\n",
    "def correct_spelling(x, dic):\n",
    "    '''Corrects common spelling errors'''   \n",
    "    for word in dic.keys():\n",
    "        x = x.replace(word, dic[word])\n",
    "    return x\n",
    "\n",
    "def remove_space(text):\n",
    "    '''Removes awkward spaces'''   \n",
    "    #Removes awkward spaces \n",
    "    text = text.strip()\n",
    "    text = text.split()\n",
    "    return \" \".join(text)\n",
    "\n",
    "def text_preprocessing_pipeline(text):\n",
    "    '''Cleaning and parsing the text.'''\n",
    "    text = clean_text(text)\n",
    "    text = clean_contractions(text, contraction_mapping)\n",
    "    text = clean_special_chars(text, punct, punct_mapping)\n",
    "    text = correct_spelling(text, mispell_dict)\n",
    "    text = remove_space(text)\n",
    "    return text"
   ]
  },
  {
   "cell_type": "code",
   "execution_count": 16,
   "id": "63c81848",
   "metadata": {},
   "outputs": [],
   "source": [
    "texts = df.text.values\n",
    "clear = np.array([preprocess(t) for t in texts])\n",
    "clear_2 = np.array([text_preprocessing_pipeline(t) for t in texts])"
   ]
  },
  {
   "cell_type": "code",
   "execution_count": 17,
   "id": "845054b7",
   "metadata": {},
   "outputs": [
    {
     "name": "stdout",
     "output_type": "stream",
     "text": [
      "6309 in train, and 2104 in test 2104 in val\n"
     ]
    }
   ],
   "source": [
    "x_train, x_test, y_train, y_test = train_test_split(texts, \n",
    "    labels, \n",
    "    test_size = 0.2,\n",
    "    shuffle = True)\n",
    "x_train, x_val, y_train, y_val = train_test_split(x_train, y_train, \n",
    "    test_size=0.25, random_state= 8) # 0.25 x 0.8 = 0.2\n",
    "\n",
    "print(len(x_train), 'in train, and', len(x_test), 'in test', len(x_val), 'in val')"
   ]
  },
  {
   "cell_type": "code",
   "execution_count": 18,
   "id": "dec56e7c",
   "metadata": {},
   "outputs": [],
   "source": [
    "label_list = ['anger',  'fear', 'joy', 'sadness', 'surprise']\n",
    "num_labels = 5"
   ]
  },
  {
   "cell_type": "code",
   "execution_count": 19,
   "id": "f447082e",
   "metadata": {},
   "outputs": [],
   "source": [
    "nBatch = 2\n",
    "nClass = 3\n",
    "nSomethingElse = 5\n",
    "weight = torch.rand (nBatch, nClass, nSomethingElse)"
   ]
  },
  {
   "cell_type": "code",
   "execution_count": 20,
   "id": "30b1c441",
   "metadata": {},
   "outputs": [],
   "source": [
    "from transformers import AutoConfig, Wav2Vec2Processor"
   ]
  },
  {
   "cell_type": "code",
   "execution_count": 21,
   "id": "93c2bf08",
   "metadata": {},
   "outputs": [],
   "source": [
    "model_name_or_path = \"lighteternal/wav2vec2-large-xlsr-53-greek\"\n",
    "pooling_mode = \"mean\""
   ]
  },
  {
   "cell_type": "code",
   "execution_count": 22,
   "id": "77d0f685",
   "metadata": {},
   "outputs": [],
   "source": [
    "# config\n",
    "configuration = AutoConfig.from_pretrained(\n",
    "    model_name_or_path,\n",
    "    num_labels=num_labels,\n",
    "    label2id={label: i for i, label in enumerate(label_list)},\n",
    "    id2label={i: label for i, label in enumerate(label_list)},\n",
    "    finetuning_task=\"wav2vec2_clf\",\n",
    ")\n",
    "setattr(configuration, 'pooling_mode', pooling_mode)"
   ]
  },
  {
   "cell_type": "code",
   "execution_count": 23,
   "id": "7966c84b",
   "metadata": {},
   "outputs": [
    {
     "data": {
      "text/plain": [
       "5"
      ]
     },
     "execution_count": 23,
     "metadata": {},
     "output_type": "execute_result"
    }
   ],
   "source": [
    "configuration.num_labels"
   ]
  },
  {
   "cell_type": "code",
   "execution_count": 24,
   "id": "87d352cf",
   "metadata": {},
   "outputs": [
    {
     "data": {
      "text/plain": [
       "{'anger': 0, 'fear': 1, 'joy': 2, 'sadness': 3, 'surprise': 4}"
      ]
     },
     "execution_count": 24,
     "metadata": {},
     "output_type": "execute_result"
    }
   ],
   "source": [
    "configuration.label2id"
   ]
  },
  {
   "cell_type": "code",
   "execution_count": 25,
   "id": "340ac065",
   "metadata": {},
   "outputs": [],
   "source": [
    "labels = [configuration.id2label[i] for i in labels.argmax(axis = 1)]"
   ]
  },
  {
   "cell_type": "code",
   "execution_count": 26,
   "id": "b240519f",
   "metadata": {},
   "outputs": [],
   "source": [
    "from collections import Counter"
   ]
  },
  {
   "cell_type": "code",
   "execution_count": 27,
   "id": "06b4254c",
   "metadata": {},
   "outputs": [],
   "source": [
    "train_count = Counter(labels)"
   ]
  },
  {
   "cell_type": "code",
   "execution_count": 28,
   "id": "e995ee21",
   "metadata": {},
   "outputs": [],
   "source": [
    "labels = [configuration.label2id[i] for i in labels]"
   ]
  },
  {
   "cell_type": "code",
   "execution_count": 29,
   "id": "09230dda",
   "metadata": {},
   "outputs": [],
   "source": [
    "train_count = Counter(labels)"
   ]
  },
  {
   "cell_type": "code",
   "execution_count": 30,
   "id": "01d05b03",
   "metadata": {},
   "outputs": [
    {
     "data": {
      "text/plain": [
       "Counter({0: 2733, 3: 2222, 4: 1787, 2: 2707, 1: 1068})"
      ]
     },
     "execution_count": 30,
     "metadata": {},
     "output_type": "execute_result"
    }
   ],
   "source": [
    "train_count"
   ]
  },
  {
   "cell_type": "code",
   "execution_count": 31,
   "id": "f5524ab9",
   "metadata": {},
   "outputs": [
    {
     "data": {
      "text/plain": [
       "2103.4"
      ]
     },
     "execution_count": 31,
     "metadata": {},
     "output_type": "execute_result"
    }
   ],
   "source": [
    "(2733+2222+1787+2707+1068)/5"
   ]
  },
  {
   "cell_type": "code",
   "execution_count": 32,
   "id": "31bf0baa",
   "metadata": {},
   "outputs": [
    {
     "data": {
      "text/plain": [
       "1.9694756554307118"
      ]
     },
     "execution_count": 32,
     "metadata": {},
     "output_type": "execute_result"
    }
   ],
   "source": [
    "2103.4/1068"
   ]
  },
  {
   "cell_type": "code",
   "execution_count": 33,
   "id": "70c3e1d2",
   "metadata": {},
   "outputs": [
    {
     "data": {
      "text/plain": [
       "10517"
      ]
     },
     "execution_count": 33,
     "metadata": {},
     "output_type": "execute_result"
    }
   ],
   "source": [
    "(2733 + 2222+1787+2707+1068)"
   ]
  },
  {
   "cell_type": "code",
   "execution_count": 34,
   "id": "f9acff43",
   "metadata": {},
   "outputs": [
    {
     "data": {
      "text/plain": [
       "2.8481522136845956"
      ]
     },
     "execution_count": 34,
     "metadata": {},
     "output_type": "execute_result"
    }
   ],
   "source": [
    "(10517-2733)/2733"
   ]
  },
  {
   "cell_type": "code",
   "execution_count": 35,
   "id": "7a9c0bd3",
   "metadata": {},
   "outputs": [
    {
     "data": {
      "text/plain": [
       "3.7331233123312333"
      ]
     },
     "execution_count": 35,
     "metadata": {},
     "output_type": "execute_result"
    }
   ],
   "source": [
    "(10517-2222)/2222"
   ]
  },
  {
   "cell_type": "code",
   "execution_count": 36,
   "id": "560a1afd",
   "metadata": {},
   "outputs": [
    {
     "data": {
      "text/plain": [
       "4.885282596530498"
      ]
     },
     "execution_count": 36,
     "metadata": {},
     "output_type": "execute_result"
    }
   ],
   "source": [
    "(10517-1787)/1787"
   ]
  },
  {
   "cell_type": "code",
   "execution_count": 37,
   "id": "d7b89bdf",
   "metadata": {},
   "outputs": [
    {
     "data": {
      "text/plain": [
       "2.885112670853343"
      ]
     },
     "execution_count": 37,
     "metadata": {},
     "output_type": "execute_result"
    }
   ],
   "source": [
    "(10517-2707)/2707"
   ]
  },
  {
   "cell_type": "code",
   "execution_count": 38,
   "id": "c659cd9b",
   "metadata": {},
   "outputs": [
    {
     "data": {
      "text/plain": [
       "8.847378277153558"
      ]
     },
     "execution_count": 38,
     "metadata": {},
     "output_type": "execute_result"
    }
   ],
   "source": [
    "(10517-1068)/1068"
   ]
  },
  {
   "cell_type": "code",
   "execution_count": 39,
   "id": "c018f666",
   "metadata": {},
   "outputs": [],
   "source": [
    "#pos_wieght = torch.tensor([2.84, 8.84, 2.88, 3.73, 4.88]).to('cuda')\n",
    "#pos_wieght = torch.tensor([0.769, 0.946, 1.177, 0.777, 1.969]).cuda()"
   ]
  },
  {
   "cell_type": "code",
   "execution_count": 40,
   "id": "e91ce602",
   "metadata": {},
   "outputs": [],
   "source": [
    "from transformers import RobertaTokenizer, RobertaModel\n",
    "tokenizer = RobertaTokenizer.from_pretrained(path)\n",
    "#model = RobertaModel.from_pretrained('roberta-base')"
   ]
  },
  {
   "cell_type": "code",
   "execution_count": 41,
   "id": "88b3579b",
   "metadata": {},
   "outputs": [
    {
     "name": "stdout",
     "output_type": "stream",
     "text": [
      "Max length:  65\n",
      "Wall time: 2.78 s\n"
     ]
    }
   ],
   "source": [
    "%%time\n",
    "\n",
    "encoded_texts = [tokenizer.encode(text, add_special_tokens=True) for text in texts]\n",
    "\n",
    "# Find the maximum length\n",
    "max_len = max([len(text) for text in encoded_texts])\n",
    "print('Max length: ', max_len)"
   ]
  },
  {
   "cell_type": "code",
   "execution_count": 42,
   "id": "20a99245",
   "metadata": {},
   "outputs": [],
   "source": [
    "def preprocessing_for_bert(data):\n",
    "    \"\"\"Perform required preprocessing steps for pretrained BERT.\n",
    "    @param    data (np.array): Array of texts to be processed.\n",
    "    @return   input_ids (torch.Tensor): Tensor of token ids to be fed to a model.\n",
    "    @return   attention_masks (torch.Tensor): Tensor of indices specifying which\n",
    "                  tokens should be attended to by the model.\n",
    "    \"\"\"\n",
    "    # Create empty lists to store outputs\n",
    "    input_ids = []\n",
    "    attention_masks = []\n",
    "    token_type_ids = []\n",
    "\n",
    "    # For every sentence...\n",
    "    for text in data:\n",
    "        # `encode_plus` will:\n",
    "        #    (1) Tokenize the sentence\n",
    "        #    (2) Add the `[CLS]` and `[SEP]` token to the start and end\n",
    "        #    (3) Truncate/Pad sentence to max length\n",
    "        #    (4) Map tokens to their IDs\n",
    "        #    (5) Create attention mask\n",
    "        #    (6) Return a dictionary of outputs\n",
    "        encoded_sent = tokenizer.encode_plus(\n",
    "            text=text,\n",
    "            add_special_tokens=True,        # Add `[CLS]` and `[SEP]`\n",
    "            max_length=MAX_LEN,             # Max length to truncate/pad\n",
    "            truncation=True,\n",
    "            pad_to_max_length=True,         # Pad sentence to max length\n",
    "            #return_tensors='pt',           # Return PyTorch tensor\n",
    "            return_attention_mask=True,\n",
    "            return_token_type_ids=True# Return attention mask\n",
    "            )\n",
    "        \n",
    "        # Add the outputs to the lists\n",
    "        input_ids.append(encoded_sent.get('input_ids'))\n",
    "        attention_masks.append(encoded_sent.get('attention_mask'))\n",
    "        token_type_ids.append(encoded_sent.get('token_type_ids'))\n",
    "\n",
    "    # Convert lists to tensors\n",
    "    input_ids = torch.tensor(input_ids)\n",
    "    attention_masks = torch.tensor(attention_masks)\n",
    "    token_type_ids = torch.tensor(token_type_ids)\n",
    "    return input_ids, attention_masks, token_type_ids\n"
   ]
  },
  {
   "cell_type": "code",
   "execution_count": 43,
   "id": "b69534ed",
   "metadata": {},
   "outputs": [
    {
     "name": "stdout",
     "output_type": "stream",
     "text": [
      "Original:  Why would you doubt it dumbass?\n",
      "Token IDs:  [0, 7608, 74, 47, 2980, 24, 16881, 2401, 116, 2, 1, 1, 1, 1, 1, 1, 1, 1, 1, 1, 1, 1, 1, 1, 1, 1, 1, 1, 1, 1, 1, 1, 1, 1, 1, 1, 1, 1, 1, 1, 1, 1, 1, 1, 1, 1, 1, 1, 1, 1, 1, 1, 1, 1, 1, 1, 1, 1, 1, 1, 1, 1, 1, 1, 1]\n",
      "Tokenizing data...\n"
     ]
    }
   ],
   "source": [
    "# Specify MAX_LEN`\n",
    "MAX_LEN = 65\n",
    "\n",
    "# Print sentence 0 and its encoded token ids\n",
    "token_ids = list(preprocessing_for_bert([texts[0]])[0].squeeze().numpy())\n",
    "print('Original: ', texts[0])\n",
    "print('Token IDs: ', token_ids)\n",
    "\n",
    "# Run function `preprocessing_for_bert` on the train set and the validation set\n",
    "print('Tokenizing data...')\n",
    "train_inputs, train_masks, train_type_ids = preprocessing_for_bert(x_train)\n",
    "test_inputs, test_masks, test_type_ids = preprocessing_for_bert(x_test)\n",
    "val_inputs, val_masks, val_type_ids = preprocessing_for_bert(x_val)"
   ]
  },
  {
   "cell_type": "code",
   "execution_count": 44,
   "id": "210b03fc",
   "metadata": {},
   "outputs": [],
   "source": [
    "from transformers import BertConfig, BertModel\n",
    "from transformers.models.roberta.modeling_roberta import (\n",
    "    RobertaPreTrainedModel,\n",
    "    RobertaModel\n",
    ")"
   ]
  },
  {
   "cell_type": "code",
   "execution_count": 45,
   "id": "8bcb05c8",
   "metadata": {},
   "outputs": [],
   "source": [
    "\n",
    "# Convert other data types to torch.Tensor\n",
    "train_labels = torch.tensor(y_train)\n",
    "test_labels = torch.tensor(y_test)\n",
    "val_labels = torch.tensor(y_val)\n",
    "# For fine-tuning BERT, the authors recommend a batch size of 16 or 32.\n",
    "batch_size = 8\n",
    "\n",
    "# Create the DataLoader for our training set\n",
    "train_data = TensorDataset(train_inputs, train_masks, train_type_ids, train_labels)\n",
    "train_sampler = RandomSampler(train_data)\n",
    "train_dataloader = DataLoader(train_data, sampler=train_sampler, batch_size=batch_size)\n",
    "\n",
    "# Create the DataLoader for our validation set\n",
    "test_data = TensorDataset(test_inputs, test_masks, test_type_ids, test_labels)\n",
    "test_sampler = SequentialSampler(test_data)\n",
    "test_dataloader = DataLoader(test_data, sampler=test_sampler, batch_size=batch_size)\n",
    "\n",
    "val_data = TensorDataset(val_inputs, val_masks, val_type_ids, val_labels)\n",
    "val_sampler = SequentialSampler(val_data)\n",
    "val_dataloader = DataLoader(val_data, sampler=val_sampler, batch_size=batch_size)"
   ]
  },
  {
   "cell_type": "code",
   "execution_count": 46,
   "id": "e24f7be3",
   "metadata": {},
   "outputs": [
    {
     "name": "stdout",
     "output_type": "stream",
     "text": [
      "Wall time: 0 ns\n"
     ]
    }
   ],
   "source": [
    "%%time\n",
    "import torch\n",
    "import torch.nn as nn\n",
    "#from transformers import BertModel\n",
    "\n",
    "# Create the BertClassfier class\n",
    "class BertClassifier(nn.Module):\n",
    "    # Bert Model for Classification Tasks.\n",
    "    def __init__(self, freeze_bert=False):\n",
    "        \"\"\"\n",
    "        @param    bert: a BertModel object\n",
    "        @param    classifier: a torch.nn.Module classifier\n",
    "        @param    freeze_bert (bool): Set `False` to fine-tune the BERT model\n",
    "        \"\"\"\n",
    "        super(BertClassifier, self).__init__()\n",
    "        # Specify hidden size of BERT, hidden size of our classifier, and number of labels\n",
    "        D_in, H, D_out = 768, 256, 5\n",
    "\n",
    "        # Instantiate BERT model\n",
    "        self.bert =RobertaModel.from_pretrained('roberta-base')\n",
    "\n",
    "        # Instantiate an one-layer feed-forward classifier\n",
    "        self.classifier = nn.Sequential(\n",
    "            nn.Linear(D_in, H),\n",
    "            #nn.ReLU(),\n",
    "            #nn.Dropout(0.5),\n",
    "            nn.Linear(H, D_out)\n",
    "        )\n",
    "\n",
    "        # Freeze the BERT model\n",
    "        if freeze_bert:\n",
    "            for param in self.bert.parameters():\n",
    "                param.requires_grad = False\n",
    "        \n",
    "    def forward(self, input_ids, attention_mask, token_type_ids):\n",
    "        \"\"\"\n",
    "        Feed input to BERT and the classifier to compute logits.\n",
    "        @param    input_ids (torch.Tensor): an input tensor with shape (batch_size,\n",
    "                      max_length)\n",
    "        @param    attention_mask (torch.Tensor): a tensor that hold attention mask\n",
    "                      information with shape (batch_size, max_length)\n",
    "        @return   logits (torch.Tensor): an output tensor with shape (batch_size,\n",
    "                      num_labels)\n",
    "        \"\"\"\n",
    "        # Feed input to BERT\n",
    "        outputs = self.bert(\n",
    "            input_ids=input_ids,\n",
    "            attention_mask=attention_mask,\n",
    "            token_type_ids=token_type_ids\n",
    "        )\n",
    "        \n",
    "        # Extract the last hidden state of the token `[CLS]` for classification task\n",
    "        last_hidden_state_cls = outputs[0][:, 0, :]\n",
    "\n",
    "        # Feed input to classifier to compute logits\n",
    "        logits = self.classifier(last_hidden_state_cls)\n",
    "\n",
    "        return logits"
   ]
  },
  {
   "cell_type": "code",
   "execution_count": 47,
   "id": "7543e60c",
   "metadata": {},
   "outputs": [],
   "source": [
    "def initialize_model(epochs=4):\n",
    "    \"\"\"Initialize the Bert Classifier, the optimizer and the learning rate scheduler.\n",
    "    \"\"\"\n",
    "    # Instantiate Bert Classifier\n",
    "    bert_classifier = BertClassifier(freeze_bert=False)\n",
    "\n",
    "    # Tell PyTorch to run the model on GPU\n",
    "    bert_classifier.to(device)\n",
    "\n",
    "    # Create the optimizer\n",
    "    optimizer = AdamW(bert_classifier.parameters(),\n",
    "                      lr=1e-5,    # Default learning rate\n",
    "                      eps=1e-8    # Default epsilon value\n",
    "                      )\n",
    "\n",
    "    # Total number of training steps\n",
    "    total_steps = len(train_dataloader) * epochs\n",
    "\n",
    "    # Set up the learning rate scheduler\n",
    "    scheduler = get_linear_schedule_with_warmup(\n",
    "        optimizer,\n",
    "        num_warmup_steps=0, # Default value\n",
    "        num_training_steps=total_steps)\n",
    "    return bert_classifier, optimizer, scheduler"
   ]
  },
  {
   "cell_type": "code",
   "execution_count": 48,
   "id": "2b5a136f",
   "metadata": {},
   "outputs": [],
   "source": [
    "#pos_weight = torch.tensor(11.634)"
   ]
  },
  {
   "cell_type": "code",
   "execution_count": 54,
   "id": "d2802ef8",
   "metadata": {},
   "outputs": [
    {
     "data": {
      "text/plain": [
       "tensor([0.8325, 0.3977, 0.0558])"
      ]
     },
     "execution_count": 54,
     "metadata": {},
     "output_type": "execute_result"
    }
   ],
   "source": [
    "class_weights = torch.rand (3)\n",
    "class_weights"
   ]
  },
  {
   "cell_type": "code",
   "execution_count": 50,
   "id": "52fafd1d",
   "metadata": {},
   "outputs": [],
   "source": [
    "class BCEWithLogitsLossWeighted(torch.nn.Module):\n",
    "    def __init__(self, weight, *args, **kwargs):\n",
    "        super().__init__()\n",
    "        # Notice none reduction\n",
    "        self.bce = torch.nn.BCEWithLogitsLoss(*args, **kwargs, reduction=\"none\")\n",
    "        self.weight = weight\n",
    "\n",
    "    def forward(self, logits, labels):\n",
    "        loss = self.bce(logits, labels)\n",
    "        binary_labels = labels.bool()\n",
    "        loss[binary_labels] *= labels[binary_labels] * self.weight\n",
    "        # Or any other reduction\n",
    "        return torch.mean(loss)"
   ]
  },
  {
   "cell_type": "code",
   "execution_count": 51,
   "id": "fa5f0fe7",
   "metadata": {},
   "outputs": [],
   "source": [
    "\n",
    "\n",
    "# Specify loss function\n",
    "#loss_fn_train = torch.nn.BCEWithLogitsLoss(torch.tensor((y_train==0.).sum()/y_train.sum()))\n",
    "#loss_fn_val = torch.nn.BCEWithLogitsLoss(torch.tensor((y_val==0.).sum()/y_val.sum()))\n",
    "loss_fn = torch.nn.BCEWithLogitsLoss()\n",
    "#loss_fn = BCEWithLogitsLossWeighted(100)\n",
    "def set_seed(seed_value=42):\n",
    "    \"\"\"Set seed for reproducibility.\n",
    "    \"\"\"\n",
    "    random.seed(seed_value)\n",
    "    np.random.seed(seed_value)\n",
    "    torch.manual_seed(seed_value)\n",
    "    torch.cuda.manual_seed_all(seed_value)\n",
    "\n",
    "def train(model, train_dataloader, val_dataloader=None, epochs=4, evaluation=False):\n",
    "    \"\"\"Train the BertClassifier model.\n",
    "    \"\"\"\n",
    "    # Start training loop\n",
    "    print(\"Start training...\\n\")\n",
    "    train_history = []\n",
    "    for epoch_i in range(epochs):\n",
    "        # =======================================\n",
    "        #               Training\n",
    "        # =======================================\n",
    "        # Print the header of the result table\n",
    "        print(f\"{'Epoch':^7} | {'Batch':^7} | {'Train Loss':^12} | {'Val Loss':^10} | {'Val Acc':^9} | {'Elapsed':^9}\")\n",
    "        print(\"-\"*70)\n",
    "\n",
    "        # Measure the elapsed time of each epoch\n",
    "        t0_epoch, t0_batch = time.time(), time.time()\n",
    "\n",
    "        # Reset tracking variables at the beginning of each epoch\n",
    "        total_loss, batch_loss, batch_counts = 0, 0, 0\n",
    "\n",
    "        # Put the model into the training mode\n",
    "        model.train()\n",
    "\n",
    "        # For each batch of training data...\n",
    "        for step, batch in enumerate(train_dataloader):\n",
    "            batch_counts +=1\n",
    "            # Load batch to GPU\n",
    "            b_input_ids, b_attn_mask, b_token, b_labels = tuple(t.to(device) for t in batch)\n",
    "\n",
    "            # Zero out any previously calculated gradients\n",
    "            model.zero_grad()\n",
    "\n",
    "            # Perform a forward pass. This will return logits.\n",
    "            logits = model(b_input_ids, b_attn_mask, b_token)\n",
    "\n",
    "            # Compute loss and accumulate the loss values\n",
    "            \n",
    "            loss = loss_fn(logits, b_labels)\n",
    "            train_history.append(loss.cpu().detach().numpy())\n",
    "            batch_loss += loss.item()\n",
    "            total_loss += loss.item()\n",
    "\n",
    "            # Perform a backward pass to calculate gradients\n",
    "            loss.backward()\n",
    "\n",
    "            # Clip the norm of the gradients to 1.0 to prevent \"exploding gradients\"\n",
    "            torch.nn.utils.clip_grad_norm_(model.parameters(), 1.0)\n",
    "\n",
    "            # Update parameters and the learning rate\n",
    "            optimizer.step()\n",
    "            scheduler.step()\n",
    "\n",
    "            # Print the loss values and time elapsed for every 20 batches\n",
    "            if (step % 20 == 0 and step != 0) or (step == len(train_dataloader) - 1):\n",
    "                # Calculate time elapsed for 20 batches\n",
    "                time_elapsed = time.time() - t0_batch\n",
    "\n",
    "                # Print training results\n",
    "                print(f\"{epoch_i + 1:^7} | {step:^7} | {batch_loss / batch_counts:^12.6f} | {'-':^10} | {'-':^9} | {time_elapsed:^9.2f}\")\n",
    "\n",
    "                # Reset batch tracking variables\n",
    "                batch_loss, batch_counts = 0, 0\n",
    "                t0_batch = time.time()\n",
    "\n",
    "        # Calculate the average loss over the entire training data\n",
    "        avg_train_loss = total_loss / len(train_dataloader)\n",
    "        print(\"-\"*70)\n",
    "        # =======================================\n",
    "        #               Evaluation\n",
    "        # =======================================\n",
    "        if evaluation == True:\n",
    "            # After the completion of each training epoch, measure the model's performance\n",
    "            # on our validation set.\n",
    "            val_loss, val_accuracy = evaluate(model, val_dataloader)\n",
    "\n",
    "            # Print performance over the entire training data\n",
    "            time_elapsed = time.time() - t0_epoch\n",
    "            \n",
    "            print(f\"{epoch_i + 1:^7} | {'-':^7} | {avg_train_loss:^12.6f} | {val_loss:^10.6f} | {val_accuracy:^9.2f} | {time_elapsed:^9.2f}\")\n",
    "            print(\"-\"*70)\n",
    "        print(\"\\n\")\n",
    "    \n",
    "    print(\"Training complete!\")\n",
    "    return train_history\n",
    "\n",
    "def evaluate(model, val_dataloader, treshold=0.5):\n",
    "    \"\"\"After the completion of each training epoch, measure the model's performance\n",
    "    on our validation set.\n",
    "    \"\"\"\n",
    "    # Put the model into the evaluation mode. The dropout layers are disabled during\n",
    "    # the test time.\n",
    "    model.eval()\n",
    "\n",
    "    # Tracking variables\n",
    "    val_accuracy = []\n",
    "    val_loss = []\n",
    "\n",
    "    # For each batch in our validation set...\n",
    "    for batch in val_dataloader:\n",
    "        # Load batch to GPU\n",
    "        b_input_ids, b_attn_mask,b_token, b_labels = tuple(t.to(device) for t in batch)\n",
    "\n",
    "        # Compute logits\n",
    "        with torch.no_grad():\n",
    "            logits = model(b_input_ids, b_attn_mask, b_token)\n",
    "\n",
    "        # Compute loss\n",
    "        loss = loss_fn(logits, b_labels)\n",
    "        val_loss.append(loss.item())\n",
    "\n",
    "        # Get the predictions\n",
    "        preds = logits >= treshold\n",
    "\n",
    "        # Calculate the accuracy rate\n",
    "      #  print(logits)\n",
    "       # accuracy = np.mean([(preds[:, i] == b_labels[:, i]).cpu().numpy().mean() for i in range(logits.shape[1])])\n",
    "        result = multi_label_metrics(logits, b_labels, treshold)\n",
    "        val_accuracy.append(result['accuracy'])\n",
    "\n",
    "    # Compute the average accuracy and loss over the validation set.\n",
    "    val_loss = np.mean(val_loss)\n",
    "    val_accuracy = np.mean(val_accuracy)\n",
    "\n",
    "    return val_loss, val_accuracy"
   ]
  },
  {
   "cell_type": "code",
   "execution_count": 52,
   "id": "0d4f0c01",
   "metadata": {},
   "outputs": [],
   "source": [
    "from sklearn.metrics import f1_score, roc_auc_score, accuracy_score\n",
    "def multi_label_metrics(predictions, labels, threshold=0.5):\n",
    "    # first, apply sigmoid on predictions which are of shape (batch_size, num_labels)\n",
    "    sigmoid = torch.nn.Sigmoid()\n",
    "    #predictions = torch.tensor(predictions)\n",
    "   # labels = torch.tensor(labels)\n",
    "  #  predictions = predictions.cpu()\n",
    "    #labels = labels.cpu()\n",
    "   # print(predictions)\n",
    "   # predictions = torch.stack(predictions, axis = 1)\n",
    "    probs = sigmoid(predictions).cpu()\n",
    "    # next, use threshold to turn them into integer predictions\n",
    "    y_pred = np.zeros(probs.shape)\n",
    "    \n",
    "    y_pred[np.where(probs >= threshold)] = 1\n",
    "    # finally, compute metrics\n",
    "    y_true = np.zeros(probs.shape)\n",
    "    #print('predictions:',predictions, 'labels:', labels, 'probs', probs)\n",
    "    labels = torch.tensor(labels.cpu())\n",
    "    y_true[np.where(labels >= threshold)] = 1\n",
    "    y_pred = torch.tensor(y_pred)\n",
    "   # print(predictions.shape, y_true.shape)\n",
    "    f1_micro_average = f1_score(y_true=y_true, y_pred=y_pred, average='micro')\n",
    "    roc_auc = roc_auc_score(y_true, y_pred, average = 'micro')\n",
    "    accuracy = accuracy_score(y_true, y_pred)\n",
    "    # return as dictionary\n",
    "    metrics = {'f1': f1_micro_average,\n",
    "               'roc_auc': roc_auc,\n",
    "               'accuracy': accuracy,\n",
    "               'prediction':y_pred\n",
    "              }\n",
    "    return metrics"
   ]
  },
  {
   "cell_type": "code",
   "execution_count": 53,
   "id": "c04d8040",
   "metadata": {
    "scrolled": true
   },
   "outputs": [
    {
     "name": "stderr",
     "output_type": "stream",
     "text": [
      "Some weights of the model checkpoint at roberta-base were not used when initializing RobertaModel: ['lm_head.layer_norm.weight', 'lm_head.dense.weight', 'lm_head.dense.bias', 'lm_head.bias', 'lm_head.layer_norm.bias', 'lm_head.decoder.weight']\n",
      "- This IS expected if you are initializing RobertaModel from the checkpoint of a model trained on another task or with another architecture (e.g. initializing a BertForSequenceClassification model from a BertForPreTraining model).\n",
      "- This IS NOT expected if you are initializing RobertaModel from the checkpoint of a model that you expect to be exactly identical (initializing a BertForSequenceClassification model from a BertForSequenceClassification model).\n"
     ]
    },
    {
     "name": "stdout",
     "output_type": "stream",
     "text": [
      "Start training...\n",
      "\n",
      " Epoch  |  Batch  |  Train Loss  |  Val Loss  |  Val Acc  |  Elapsed \n",
      "----------------------------------------------------------------------\n",
      "   1    |   20    |   0.676474   |     -      |     -     |   5.48   \n",
      "   1    |   40    |   0.522966   |     -      |     -     |   2.75   \n",
      "   1    |   60    |   0.499302   |     -      |     -     |   2.72   \n",
      "   1    |   80    |   0.486573   |     -      |     -     |   2.76   \n",
      "   1    |   100   |   0.479645   |     -      |     -     |   2.78   \n",
      "   1    |   120   |   0.430255   |     -      |     -     |   2.84   \n",
      "   1    |   140   |   0.424045   |     -      |     -     |   2.73   \n",
      "   1    |   160   |   0.402163   |     -      |     -     |   2.75   \n",
      "   1    |   180   |   0.382550   |     -      |     -     |   2.82   \n",
      "   1    |   200   |   0.357264   |     -      |     -     |   2.74   \n",
      "   1    |   220   |   0.345362   |     -      |     -     |   2.74   \n",
      "   1    |   240   |   0.350979   |     -      |     -     |   2.77   \n",
      "   1    |   260   |   0.347129   |     -      |     -     |   2.76   \n",
      "   1    |   280   |   0.327369   |     -      |     -     |   2.75   \n",
      "   1    |   300   |   0.299710   |     -      |     -     |   2.88   \n",
      "   1    |   320   |   0.280373   |     -      |     -     |   2.71   \n",
      "   1    |   340   |   0.348129   |     -      |     -     |   2.74   \n",
      "   1    |   360   |   0.335314   |     -      |     -     |   2.74   \n",
      "   1    |   380   |   0.282376   |     -      |     -     |   2.74   \n",
      "   1    |   400   |   0.307924   |     -      |     -     |   2.74   \n",
      "   1    |   420   |   0.308499   |     -      |     -     |   2.74   \n",
      "   1    |   440   |   0.291885   |     -      |     -     |   2.74   \n",
      "   1    |   460   |   0.306377   |     -      |     -     |   2.77   \n",
      "   1    |   480   |   0.270081   |     -      |     -     |   2.74   \n",
      "   1    |   500   |   0.292907   |     -      |     -     |   2.74   \n",
      "   1    |   520   |   0.249113   |     -      |     -     |   2.78   \n",
      "   1    |   540   |   0.280436   |     -      |     -     |   2.79   \n",
      "   1    |   560   |   0.234801   |     -      |     -     |   2.74   \n",
      "   1    |   580   |   0.277700   |     -      |     -     |   2.75   \n",
      "   1    |   600   |   0.243989   |     -      |     -     |   2.74   \n",
      "   1    |   620   |   0.255347   |     -      |     -     |   2.74   \n",
      "   1    |   640   |   0.240736   |     -      |     -     |   2.74   \n",
      "   1    |   660   |   0.273932   |     -      |     -     |   2.75   \n",
      "   1    |   680   |   0.275879   |     -      |     -     |   2.74   \n",
      "   1    |   700   |   0.303096   |     -      |     -     |   2.74   \n",
      "   1    |   720   |   0.332552   |     -      |     -     |   2.75   \n",
      "   1    |   740   |   0.289368   |     -      |     -     |   2.75   \n",
      "   1    |   760   |   0.278526   |     -      |     -     |   2.75   \n",
      "   1    |   780   |   0.287889   |     -      |     -     |   2.75   \n",
      "   1    |   788   |   0.330083   |     -      |     -     |   1.10   \n",
      "----------------------------------------------------------------------\n",
      "   1    |    -    |   0.338273   |  0.259023  |   0.68    |  118.71  \n",
      "----------------------------------------------------------------------\n",
      "\n",
      "\n",
      " Epoch  |  Batch  |  Train Loss  |  Val Loss  |  Val Acc  |  Elapsed \n",
      "----------------------------------------------------------------------\n",
      "   2    |   20    |   0.207676   |     -      |     -     |   2.82   \n",
      "   2    |   40    |   0.245424   |     -      |     -     |   2.75   \n",
      "   2    |   60    |   0.218458   |     -      |     -     |   2.75   \n",
      "   2    |   80    |   0.254727   |     -      |     -     |   2.74   \n",
      "   2    |   100   |   0.280225   |     -      |     -     |   2.75   \n",
      "   2    |   120   |   0.251217   |     -      |     -     |   2.75   \n",
      "   2    |   140   |   0.207096   |     -      |     -     |   2.75   \n",
      "   2    |   160   |   0.243409   |     -      |     -     |   2.75   \n",
      "   2    |   180   |   0.212952   |     -      |     -     |   2.75   \n",
      "   2    |   200   |   0.275544   |     -      |     -     |   2.75   \n",
      "   2    |   220   |   0.245750   |     -      |     -     |   2.74   \n",
      "   2    |   240   |   0.197698   |     -      |     -     |   2.75   \n",
      "   2    |   260   |   0.237681   |     -      |     -     |   2.75   \n",
      "   2    |   280   |   0.217894   |     -      |     -     |   2.75   \n",
      "   2    |   300   |   0.222732   |     -      |     -     |   2.75   \n",
      "   2    |   320   |   0.212477   |     -      |     -     |   2.74   \n",
      "   2    |   340   |   0.258739   |     -      |     -     |   2.75   \n",
      "   2    |   360   |   0.275257   |     -      |     -     |   2.75   \n",
      "   2    |   380   |   0.279329   |     -      |     -     |   2.75   \n",
      "   2    |   400   |   0.237747   |     -      |     -     |   2.75   \n",
      "   2    |   420   |   0.174799   |     -      |     -     |   2.75   \n",
      "   2    |   440   |   0.208367   |     -      |     -     |   2.74   \n",
      "   2    |   460   |   0.198238   |     -      |     -     |   2.75   \n",
      "   2    |   480   |   0.225463   |     -      |     -     |   2.75   \n",
      "   2    |   500   |   0.282023   |     -      |     -     |   2.75   \n",
      "   2    |   520   |   0.273353   |     -      |     -     |   2.75   \n",
      "   2    |   540   |   0.282692   |     -      |     -     |   2.78   \n",
      "   2    |   560   |   0.225017   |     -      |     -     |   2.74   \n",
      "   2    |   580   |   0.226981   |     -      |     -     |   2.75   \n",
      "   2    |   600   |   0.220643   |     -      |     -     |   2.75   \n",
      "   2    |   620   |   0.196254   |     -      |     -     |   2.75   \n",
      "   2    |   640   |   0.247707   |     -      |     -     |   2.74   \n",
      "   2    |   660   |   0.166939   |     -      |     -     |   2.75   \n",
      "   2    |   680   |   0.234720   |     -      |     -     |   2.75   \n",
      "   2    |   700   |   0.209123   |     -      |     -     |   2.75   \n",
      "   2    |   720   |   0.234926   |     -      |     -     |   2.75   \n",
      "   2    |   740   |   0.224923   |     -      |     -     |   2.75   \n",
      "   2    |   760   |   0.225445   |     -      |     -     |   2.75   \n",
      "   2    |   780   |   0.247920   |     -      |     -     |   2.74   \n",
      "   2    |   788   |   0.171549   |     -      |     -     |   1.09   \n",
      "----------------------------------------------------------------------\n",
      "   2    |    -    |   0.232359   |  0.260341  |   0.72    |  115.86  \n",
      "----------------------------------------------------------------------\n",
      "\n",
      "\n",
      " Epoch  |  Batch  |  Train Loss  |  Val Loss  |  Val Acc  |  Elapsed \n",
      "----------------------------------------------------------------------\n",
      "   3    |   20    |   0.188574   |     -      |     -     |   2.88   \n",
      "   3    |   40    |   0.182518   |     -      |     -     |   2.76   \n",
      "   3    |   60    |   0.202352   |     -      |     -     |   2.76   \n",
      "   3    |   80    |   0.195374   |     -      |     -     |   2.77   \n",
      "   3    |   100   |   0.160505   |     -      |     -     |   2.75   \n",
      "   3    |   120   |   0.222103   |     -      |     -     |   2.75   \n",
      "   3    |   140   |   0.199020   |     -      |     -     |   2.75   \n",
      "   3    |   160   |   0.202777   |     -      |     -     |   2.75   \n",
      "   3    |   180   |   0.177404   |     -      |     -     |   2.74   \n",
      "   3    |   200   |   0.133547   |     -      |     -     |   2.75   \n",
      "   3    |   220   |   0.221359   |     -      |     -     |   2.74   \n",
      "   3    |   240   |   0.218239   |     -      |     -     |   2.75   \n",
      "   3    |   260   |   0.245553   |     -      |     -     |   2.75   \n",
      "   3    |   280   |   0.200551   |     -      |     -     |   2.75   \n",
      "   3    |   300   |   0.186633   |     -      |     -     |   2.75   \n",
      "   3    |   320   |   0.194686   |     -      |     -     |   2.75   \n",
      "   3    |   340   |   0.138054   |     -      |     -     |   2.75   \n",
      "   3    |   360   |   0.137093   |     -      |     -     |   2.75   \n",
      "   3    |   380   |   0.222050   |     -      |     -     |   2.75   \n",
      "   3    |   400   |   0.202016   |     -      |     -     |   2.75   \n",
      "   3    |   420   |   0.188286   |     -      |     -     |   2.75   \n",
      "   3    |   440   |   0.193225   |     -      |     -     |   2.75   \n",
      "   3    |   460   |   0.178817   |     -      |     -     |   2.75   \n",
      "   3    |   480   |   0.190122   |     -      |     -     |   2.75   \n",
      "   3    |   500   |   0.235826   |     -      |     -     |   2.75   \n"
     ]
    },
    {
     "name": "stdout",
     "output_type": "stream",
     "text": [
      "   3    |   520   |   0.205494   |     -      |     -     |   2.74   \n",
      "   3    |   540   |   0.167860   |     -      |     -     |   2.75   \n",
      "   3    |   560   |   0.158654   |     -      |     -     |   2.75   \n",
      "   3    |   580   |   0.179628   |     -      |     -     |   2.75   \n",
      "   3    |   600   |   0.202933   |     -      |     -     |   2.74   \n",
      "   3    |   620   |   0.184020   |     -      |     -     |   2.75   \n",
      "   3    |   640   |   0.194459   |     -      |     -     |   2.75   \n",
      "   3    |   660   |   0.197386   |     -      |     -     |   2.75   \n",
      "   3    |   680   |   0.204527   |     -      |     -     |   2.75   \n",
      "   3    |   700   |   0.186052   |     -      |     -     |   2.75   \n",
      "   3    |   720   |   0.204418   |     -      |     -     |   2.75   \n",
      "   3    |   740   |   0.194110   |     -      |     -     |   2.75   \n",
      "   3    |   760   |   0.166606   |     -      |     -     |   2.75   \n",
      "   3    |   780   |   0.232074   |     -      |     -     |   2.75   \n",
      "   3    |   788   |   0.170827   |     -      |     -     |   1.09   \n",
      "----------------------------------------------------------------------\n",
      "   3    |    -    |   0.191956   |  0.260613  |   0.72    |  115.87  \n",
      "----------------------------------------------------------------------\n",
      "\n",
      "\n",
      " Epoch  |  Batch  |  Train Loss  |  Val Loss  |  Val Acc  |  Elapsed \n",
      "----------------------------------------------------------------------\n",
      "   4    |   20    |   0.164060   |     -      |     -     |   2.82   \n",
      "   4    |   40    |   0.142543   |     -      |     -     |   2.78   \n",
      "   4    |   60    |   0.179385   |     -      |     -     |   2.83   \n",
      "   4    |   80    |   0.141023   |     -      |     -     |   2.76   \n",
      "   4    |   100   |   0.197169   |     -      |     -     |   2.80   \n",
      "   4    |   120   |   0.176819   |     -      |     -     |   2.82   \n",
      "   4    |   140   |   0.130192   |     -      |     -     |   2.75   \n",
      "   4    |   160   |   0.165891   |     -      |     -     |   2.81   \n",
      "   4    |   180   |   0.175057   |     -      |     -     |   2.74   \n",
      "   4    |   200   |   0.172198   |     -      |     -     |   2.76   \n",
      "   4    |   220   |   0.133165   |     -      |     -     |   2.76   \n",
      "   4    |   240   |   0.184528   |     -      |     -     |   2.75   \n",
      "   4    |   260   |   0.192298   |     -      |     -     |   2.76   \n",
      "   4    |   280   |   0.146302   |     -      |     -     |   2.81   \n",
      "   4    |   300   |   0.136624   |     -      |     -     |   2.87   \n",
      "   4    |   320   |   0.156048   |     -      |     -     |   2.77   \n",
      "   4    |   340   |   0.198866   |     -      |     -     |   2.76   \n",
      "   4    |   360   |   0.164894   |     -      |     -     |   2.81   \n",
      "   4    |   380   |   0.137021   |     -      |     -     |   2.82   \n",
      "   4    |   400   |   0.184670   |     -      |     -     |   2.77   \n",
      "   4    |   420   |   0.208230   |     -      |     -     |   2.76   \n",
      "   4    |   440   |   0.156142   |     -      |     -     |   2.76   \n",
      "   4    |   460   |   0.199079   |     -      |     -     |   2.79   \n",
      "   4    |   480   |   0.116984   |     -      |     -     |   2.76   \n",
      "   4    |   500   |   0.169684   |     -      |     -     |   2.76   \n",
      "   4    |   520   |   0.142857   |     -      |     -     |   2.76   \n",
      "   4    |   540   |   0.139979   |     -      |     -     |   2.78   \n",
      "   4    |   560   |   0.211989   |     -      |     -     |   2.92   \n",
      "   4    |   580   |   0.162529   |     -      |     -     |   2.83   \n",
      "   4    |   600   |   0.171859   |     -      |     -     |   2.76   \n",
      "   4    |   620   |   0.163095   |     -      |     -     |   2.75   \n",
      "   4    |   640   |   0.164748   |     -      |     -     |   2.80   \n",
      "   4    |   660   |   0.208842   |     -      |     -     |   2.78   \n",
      "   4    |   680   |   0.215523   |     -      |     -     |   2.85   \n",
      "   4    |   700   |   0.144520   |     -      |     -     |   2.80   \n",
      "   4    |   720   |   0.158052   |     -      |     -     |   2.79   \n",
      "   4    |   740   |   0.122944   |     -      |     -     |   2.77   \n",
      "   4    |   760   |   0.128974   |     -      |     -     |   2.83   \n",
      "   4    |   780   |   0.157651   |     -      |     -     |   2.78   \n",
      "   4    |   788   |   0.099773   |     -      |     -     |   1.12   \n",
      "----------------------------------------------------------------------\n",
      "   4    |    -    |   0.164019   |  0.291017  |   0.73    |  117.53  \n",
      "----------------------------------------------------------------------\n",
      "\n",
      "\n",
      " Epoch  |  Batch  |  Train Loss  |  Val Loss  |  Val Acc  |  Elapsed \n",
      "----------------------------------------------------------------------\n",
      "   5    |   20    |   0.119920   |     -      |     -     |   2.85   \n",
      "   5    |   40    |   0.120209   |     -      |     -     |   2.74   \n",
      "   5    |   60    |   0.192149   |     -      |     -     |   2.75   \n",
      "   5    |   80    |   0.155346   |     -      |     -     |   2.77   \n",
      "   5    |   100   |   0.125770   |     -      |     -     |   2.76   \n",
      "   5    |   120   |   0.140088   |     -      |     -     |   2.77   \n",
      "   5    |   140   |   0.171931   |     -      |     -     |   2.76   \n",
      "   5    |   160   |   0.150653   |     -      |     -     |   2.81   \n",
      "   5    |   180   |   0.109463   |     -      |     -     |   2.75   \n",
      "   5    |   200   |   0.153301   |     -      |     -     |   2.76   \n",
      "   5    |   220   |   0.186329   |     -      |     -     |   2.79   \n",
      "   5    |   240   |   0.152995   |     -      |     -     |   2.75   \n",
      "   5    |   260   |   0.129709   |     -      |     -     |   2.78   \n",
      "   5    |   280   |   0.172094   |     -      |     -     |   2.75   \n",
      "   5    |   300   |   0.087053   |     -      |     -     |   2.77   \n",
      "   5    |   320   |   0.207959   |     -      |     -     |   2.76   \n",
      "   5    |   340   |   0.124158   |     -      |     -     |   2.80   \n",
      "   5    |   360   |   0.107646   |     -      |     -     |   2.75   \n",
      "   5    |   380   |   0.135629   |     -      |     -     |   2.75   \n",
      "   5    |   400   |   0.113019   |     -      |     -     |   2.76   \n",
      "   5    |   420   |   0.164751   |     -      |     -     |   2.76   \n",
      "   5    |   440   |   0.107447   |     -      |     -     |   2.75   \n",
      "   5    |   460   |   0.124444   |     -      |     -     |   2.77   \n",
      "   5    |   480   |   0.174238   |     -      |     -     |   2.76   \n",
      "   5    |   500   |   0.136425   |     -      |     -     |   2.77   \n",
      "   5    |   520   |   0.116537   |     -      |     -     |   2.79   \n",
      "   5    |   540   |   0.127168   |     -      |     -     |   2.78   \n",
      "   5    |   560   |   0.161107   |     -      |     -     |   2.77   \n",
      "   5    |   580   |   0.141624   |     -      |     -     |   2.76   \n",
      "   5    |   600   |   0.161732   |     -      |     -     |   2.77   \n"
     ]
    },
    {
     "ename": "KeyboardInterrupt",
     "evalue": "",
     "output_type": "error",
     "traceback": [
      "\u001b[1;31m---------------------------------------------------------------------------\u001b[0m",
      "\u001b[1;31mKeyboardInterrupt\u001b[0m                         Traceback (most recent call last)",
      "\u001b[1;32mC:\\Users\\E8E5~1\\AppData\\Local\\Temp/ipykernel_17476/826541106.py\u001b[0m in \u001b[0;36m<module>\u001b[1;34m\u001b[0m\n\u001b[0;32m      1\u001b[0m \u001b[0mbert_classifier\u001b[0m\u001b[1;33m,\u001b[0m \u001b[0moptimizer\u001b[0m\u001b[1;33m,\u001b[0m \u001b[0mscheduler\u001b[0m \u001b[1;33m=\u001b[0m \u001b[0minitialize_model\u001b[0m\u001b[1;33m(\u001b[0m\u001b[0mepochs\u001b[0m\u001b[1;33m=\u001b[0m\u001b[1;36m10\u001b[0m\u001b[1;33m)\u001b[0m\u001b[1;33m\u001b[0m\u001b[1;33m\u001b[0m\u001b[0m\n\u001b[1;32m----> 2\u001b[1;33m \u001b[0mtrain_history\u001b[0m \u001b[1;33m=\u001b[0m \u001b[0mtrain\u001b[0m\u001b[1;33m(\u001b[0m\u001b[0mbert_classifier\u001b[0m\u001b[1;33m,\u001b[0m \u001b[0mtrain_dataloader\u001b[0m\u001b[1;33m,\u001b[0m \u001b[0mval_dataloader\u001b[0m\u001b[1;33m,\u001b[0m \u001b[0mepochs\u001b[0m\u001b[1;33m=\u001b[0m\u001b[1;36m15\u001b[0m\u001b[1;33m,\u001b[0m \u001b[0mevaluation\u001b[0m\u001b[1;33m=\u001b[0m\u001b[1;32mTrue\u001b[0m\u001b[1;33m)\u001b[0m\u001b[1;33m\u001b[0m\u001b[1;33m\u001b[0m\u001b[0m\n\u001b[0m",
      "\u001b[1;32mC:\\Users\\E8E5~1\\AppData\\Local\\Temp/ipykernel_17476/2314063977.py\u001b[0m in \u001b[0;36mtrain\u001b[1;34m(model, train_dataloader, val_dataloader, epochs, evaluation)\u001b[0m\n\u001b[0;32m     39\u001b[0m             \u001b[0mbatch_counts\u001b[0m \u001b[1;33m+=\u001b[0m\u001b[1;36m1\u001b[0m\u001b[1;33m\u001b[0m\u001b[1;33m\u001b[0m\u001b[0m\n\u001b[0;32m     40\u001b[0m             \u001b[1;31m# Load batch to GPU\u001b[0m\u001b[1;33m\u001b[0m\u001b[1;33m\u001b[0m\u001b[0m\n\u001b[1;32m---> 41\u001b[1;33m             \u001b[0mb_input_ids\u001b[0m\u001b[1;33m,\u001b[0m \u001b[0mb_attn_mask\u001b[0m\u001b[1;33m,\u001b[0m \u001b[0mb_token\u001b[0m\u001b[1;33m,\u001b[0m \u001b[0mb_labels\u001b[0m \u001b[1;33m=\u001b[0m \u001b[0mtuple\u001b[0m\u001b[1;33m(\u001b[0m\u001b[0mt\u001b[0m\u001b[1;33m.\u001b[0m\u001b[0mto\u001b[0m\u001b[1;33m(\u001b[0m\u001b[0mdevice\u001b[0m\u001b[1;33m)\u001b[0m \u001b[1;32mfor\u001b[0m \u001b[0mt\u001b[0m \u001b[1;32min\u001b[0m \u001b[0mbatch\u001b[0m\u001b[1;33m)\u001b[0m\u001b[1;33m\u001b[0m\u001b[1;33m\u001b[0m\u001b[0m\n\u001b[0m\u001b[0;32m     42\u001b[0m \u001b[1;33m\u001b[0m\u001b[0m\n\u001b[0;32m     43\u001b[0m             \u001b[1;31m# Zero out any previously calculated gradients\u001b[0m\u001b[1;33m\u001b[0m\u001b[1;33m\u001b[0m\u001b[0m\n",
      "\u001b[1;32mC:\\Users\\E8E5~1\\AppData\\Local\\Temp/ipykernel_17476/2314063977.py\u001b[0m in \u001b[0;36m<genexpr>\u001b[1;34m(.0)\u001b[0m\n\u001b[0;32m     39\u001b[0m             \u001b[0mbatch_counts\u001b[0m \u001b[1;33m+=\u001b[0m\u001b[1;36m1\u001b[0m\u001b[1;33m\u001b[0m\u001b[1;33m\u001b[0m\u001b[0m\n\u001b[0;32m     40\u001b[0m             \u001b[1;31m# Load batch to GPU\u001b[0m\u001b[1;33m\u001b[0m\u001b[1;33m\u001b[0m\u001b[0m\n\u001b[1;32m---> 41\u001b[1;33m             \u001b[0mb_input_ids\u001b[0m\u001b[1;33m,\u001b[0m \u001b[0mb_attn_mask\u001b[0m\u001b[1;33m,\u001b[0m \u001b[0mb_token\u001b[0m\u001b[1;33m,\u001b[0m \u001b[0mb_labels\u001b[0m \u001b[1;33m=\u001b[0m \u001b[0mtuple\u001b[0m\u001b[1;33m(\u001b[0m\u001b[0mt\u001b[0m\u001b[1;33m.\u001b[0m\u001b[0mto\u001b[0m\u001b[1;33m(\u001b[0m\u001b[0mdevice\u001b[0m\u001b[1;33m)\u001b[0m \u001b[1;32mfor\u001b[0m \u001b[0mt\u001b[0m \u001b[1;32min\u001b[0m \u001b[0mbatch\u001b[0m\u001b[1;33m)\u001b[0m\u001b[1;33m\u001b[0m\u001b[1;33m\u001b[0m\u001b[0m\n\u001b[0m\u001b[0;32m     42\u001b[0m \u001b[1;33m\u001b[0m\u001b[0m\n\u001b[0;32m     43\u001b[0m             \u001b[1;31m# Zero out any previously calculated gradients\u001b[0m\u001b[1;33m\u001b[0m\u001b[1;33m\u001b[0m\u001b[0m\n",
      "\u001b[1;31mKeyboardInterrupt\u001b[0m: "
     ]
    }
   ],
   "source": [
    "bert_classifier, optimizer, scheduler = initialize_model(epochs=10)\n",
    "train_history = train(bert_classifier, train_dataloader, val_dataloader, epochs=15, evaluation=True)"
   ]
  },
  {
   "cell_type": "code",
   "execution_count": null,
   "id": "afceb9b3",
   "metadata": {},
   "outputs": [],
   "source": []
  },
  {
   "cell_type": "code",
   "execution_count": null,
   "id": "a4d7d237",
   "metadata": {},
   "outputs": [],
   "source": [
    "def predict(b_ids,  attention_mask, test_type_ids, threshold =0.5):\n",
    "   # speech = speech_file_to_array_fn(path, sampling_rate)\n",
    "   # features = processor(speech, sampling_rate=sampling_rate, return_tensors=\"pt\", padding=True)\n",
    "\n",
    "    #input_values = features.input_values.to(device)\n",
    "    #attention_mask = features.attention_mask.to(device)\n",
    "    b_ids = torch.tensor(b_ids).unsqueeze(0).cuda()\n",
    "    attention_mask = torch.tensor(attention_mask).unsqueeze(0).cuda()\n",
    "    test_type_ids = torch.tensor(test_type_ids).unsqueeze(0).cuda()\n",
    "    #print(input_values.shape)\n",
    "    with torch.no_grad():\n",
    "        logits = bert_classifier(b_ids ,  attention_mask, test_type_ids)\n",
    "        \n",
    "    #preds = logits.argmax(axis = 1)\n",
    "    #accuracy = (preds == labels).cpu().numpy().astype(np.float32)\n",
    "    sigmoid = torch.nn.Sigmoid()\n",
    "    probs = sigmoid(logits).cpu()\n",
    "    y_pred = np.zeros(probs.shape)\n",
    "    y_pred[np.where(probs >= threshold)] = 1\n",
    "    # finally, compute metrics\n",
    "    #print('predictions:',predictions, 'labels:', labels, 'probs', probs)\n",
    "    y_pred = torch.tensor(y_pred)\n",
    "   # outputs = [{\"Emotion\": config.id2label[i], \"Score\": f\"{round(score * 100, 3):.1f}%\"} for i, score in enumerate(scores)]\n",
    "    return y_pred"
   ]
  },
  {
   "cell_type": "code",
   "execution_count": null,
   "id": "5831325f",
   "metadata": {},
   "outputs": [],
   "source": [
    "from tqdm import tqdm"
   ]
  },
  {
   "cell_type": "code",
   "execution_count": null,
   "id": "f38ce252",
   "metadata": {},
   "outputs": [],
   "source": [
    "y_pred = []\n",
    "for i in tqdm(range(len(test_data))):\n",
    "    y_pred.append(predict(test_inputs[i], test_masks[i], test_type_ids[i]))"
   ]
  },
  {
   "cell_type": "code",
   "execution_count": null,
   "id": "47cf9dda",
   "metadata": {},
   "outputs": [],
   "source": [
    "y_pred = torch.stack(y_pred, axis = 1)"
   ]
  },
  {
   "cell_type": "code",
   "execution_count": null,
   "id": "03222fc6",
   "metadata": {},
   "outputs": [],
   "source": [
    "y_pred = y_pred[0]"
   ]
  },
  {
   "cell_type": "code",
   "execution_count": null,
   "id": "27395448",
   "metadata": {},
   "outputs": [],
   "source": [
    "from sklearn.metrics import classification_report\n",
    "print(classification_report(test_labels, y_pred, target_names=label_list))"
   ]
  },
  {
   "cell_type": "code",
   "execution_count": null,
   "id": "83861331",
   "metadata": {},
   "outputs": [],
   "source": [
    "from sklearn.metrics import confusion_matrix, ConfusionMatrixDisplay\n",
    "import matplotlib.pyplot as plt\n",
    "from sklearn.model_selection import train_test_split\n",
    "from sklearn.datasets import make_multilabel_classification\n",
    "from sklearn.tree import DecisionTreeClassifier\n",
    "\n",
    "f, axes = plt.subplots(1, 5, figsize=(25, 15))\n",
    "axes = axes.ravel()\n",
    "for i in range(5):\n",
    "    disp = ConfusionMatrixDisplay(confusion_matrix(test_labels[:, i],\n",
    "                                                   y_pred[:, i]),\n",
    "                                  display_labels=[0, i])\n",
    "    disp.plot(ax=axes[i], values_format='.4g')\n",
    "    disp.ax_.set_title(f'class {i}')\n",
    "    if i<10:\n",
    "        disp.ax_.set_xlabel('')\n",
    "    if i%5!=0:\n",
    "        disp.ax_.set_ylabel('')\n",
    "    disp.im_.colorbar.remove()\n",
    "\n",
    "plt.subplots_adjust(wspace=0.10, hspace=0.1)\n",
    "f.colorbar(disp.im_, ax=axes)\n",
    "plt.show()"
   ]
  },
  {
   "cell_type": "code",
   "execution_count": null,
   "id": "6f1480ce",
   "metadata": {},
   "outputs": [],
   "source": []
  },
  {
   "cell_type": "code",
   "execution_count": null,
   "id": "d2c6ed7d",
   "metadata": {},
   "outputs": [],
   "source": [
    "batch_size = 2\n",
    "num_classes = 11\n",
    "\n",
    "loss_fn = torch.nn.BCELoss()\n",
    "\n",
    "outputs_before_sigmoid = torch.randn(batch_size, num_classes)\n",
    "sigmoid_outputs = torch.sigmoid(outputs_before_sigmoid)"
   ]
  },
  {
   "cell_type": "code",
   "execution_count": null,
   "id": "8d5bbf5f",
   "metadata": {},
   "outputs": [],
   "source": [
    "target_classes = torch.randint(0, 2, (batch_size, num_classes))\n",
    "target_classes"
   ]
  },
  {
   "cell_type": "code",
   "execution_count": null,
   "id": "af2a8c8d",
   "metadata": {},
   "outputs": [],
   "source": [
    "y_pred = []\n",
    "for i in tqdm(range(len(val_inputs))):\n",
    "    y_pred.append(predict(test_inputs[i], test_masks[i], test_type_ids[i]))"
   ]
  },
  {
   "cell_type": "code",
   "execution_count": null,
   "id": "cec8b1e9",
   "metadata": {},
   "outputs": [],
   "source": [
    "y_pred = torch.stack(y_pred, axis = 1)"
   ]
  },
  {
   "cell_type": "code",
   "execution_count": null,
   "id": "67aa4a0b",
   "metadata": {},
   "outputs": [],
   "source": [
    "y_test = torch.tensor(y_test)"
   ]
  },
  {
   "cell_type": "code",
   "execution_count": null,
   "id": "235da2f5",
   "metadata": {},
   "outputs": [],
   "source": [
    "y_pred"
   ]
  },
  {
   "cell_type": "code",
   "execution_count": null,
   "id": "dbec2c9d",
   "metadata": {},
   "outputs": [],
   "source": [
    "result = multi_label_metrics(y_pred[0], y_test)"
   ]
  },
  {
   "cell_type": "code",
   "execution_count": null,
   "id": "e256bd4c",
   "metadata": {},
   "outputs": [],
   "source": [
    "y_pred = result['prediction']"
   ]
  },
  {
   "cell_type": "code",
   "execution_count": null,
   "id": "b3213f91",
   "metadata": {},
   "outputs": [],
   "source": []
  },
  {
   "cell_type": "code",
   "execution_count": null,
   "id": "2e6d74b0",
   "metadata": {},
   "outputs": [],
   "source": [
    "y_pred = np.array(y_pred[0].cpu())"
   ]
  },
  {
   "cell_type": "code",
   "execution_count": null,
   "id": "b2efb159",
   "metadata": {},
   "outputs": [],
   "source": [
    "y_pred"
   ]
  },
  {
   "cell_type": "code",
   "execution_count": null,
   "id": "125edac4",
   "metadata": {},
   "outputs": [],
   "source": [
    "from sklearn.metrics import classification_report\n",
    "print(classification_report(test_labels, y_pred, target_names=label_list))"
   ]
  },
  {
   "cell_type": "code",
   "execution_count": null,
   "id": "a8b198e8",
   "metadata": {},
   "outputs": [],
   "source": [
    "374+481+556+219+532"
   ]
  },
  {
   "cell_type": "code",
   "execution_count": null,
   "id": "3c956701",
   "metadata": {},
   "outputs": [],
   "source": [
    "fpr = {}\n",
    "tpr = {}\n",
    "thresh ={}\n",
    "from sklearn.metrics import roc_auc_score, roc_curve\n",
    "n_class = 8\n",
    "\n",
    "for i in range(n_class):    \n",
    "    fpr[i], tpr[i], thresh[i] = roc_curve(test_labels, y_pred[:,i], pos_label=i)\n",
    "    \n",
    "# plotting    \n",
    "plt.plot(fpr[0], tpr[0], linestyle='--',color='orange', label='calm 0 vs Rest')\n",
    "plt.plot(fpr[1], tpr[1], linestyle='--',color='green', label='happy 1 vs Rest')\n",
    "plt.plot(fpr[2], tpr[2], linestyle='--',color='blue', label='fearful 2 vs Rest')\n",
    "plt.plot(fpr[3], tpr[3], linestyle='--',color='red', label='disgust 3 vs Rest')\n",
    "plt.plot(fpr[3], tpr[3], linestyle='--',color='purple', label='neutral 4 vs Rest')\n",
    "plt.plot(fpr[3], tpr[3], linestyle='--',color='blanchedalmond', label='sad 5 vs Rest')\n",
    "plt.plot(fpr[3], tpr[3], linestyle='--',color='aqua', label='angry 6 vs Rest')\n",
    "plt.plot(fpr[3], tpr[3], linestyle='--',color='black', label='surprised 7 vs Rest')\n",
    "plt.title('Multiclass ROC curve')\n",
    "plt.xlabel('False Positive Rate')\n",
    "plt.ylabel('True Positive rate')\n",
    "plt.legend(loc='best')\n",
    "plt.savefig('Multiclass ROC',dpi=300);"
   ]
  },
  {
   "cell_type": "code",
   "execution_count": null,
   "id": "ac08c9c8",
   "metadata": {},
   "outputs": [],
   "source": []
  }
 ],
 "metadata": {
  "kernelspec": {
   "display_name": "Python 3 (ipykernel)",
   "language": "python",
   "name": "python3"
  },
  "language_info": {
   "codemirror_mode": {
    "name": "ipython",
    "version": 3
   },
   "file_extension": ".py",
   "mimetype": "text/x-python",
   "name": "python",
   "nbconvert_exporter": "python",
   "pygments_lexer": "ipython3",
   "version": "3.9.7"
  }
 },
 "nbformat": 4,
 "nbformat_minor": 5
}
